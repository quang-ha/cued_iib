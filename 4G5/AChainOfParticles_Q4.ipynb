{
 "cells": [
  {
   "cell_type": "code",
   "execution_count": 1,
   "metadata": {
    "collapsed": false
   },
   "outputs": [],
   "source": [
    "%matplotlib inline\n",
    "import matplotlib.pyplot as plt\n",
    "import numpy as np\n",
    "\n",
    "# Declare a mesh\n",
    "l = 0.1\n",
    "N = 1000\n",
    "L = (N-1)*l\n",
    "x = np.linspace(0, L, N)\n",
    "# plt.figure(figsize=(12,10))\n",
    "# plt.plot(x, np.ones(N),'-o')"
   ]
  },
  {
   "cell_type": "code",
   "execution_count": 2,
   "metadata": {
    "collapsed": true
   },
   "outputs": [],
   "source": [
    "def cal_potential_energy(chain):\n",
    "    re = 0.0\n",
    "    n = chain.size\n",
    "    for i in range(0, n-1):\n",
    "        temp = chain[i] - chain[i+1] - l\n",
    "        re += temp**2 - alpha*(temp**3) + 0.1*(temp**4)\n",
    "        \n",
    "    return re"
   ]
  },
  {
   "cell_type": "code",
   "execution_count": 3,
   "metadata": {
    "collapsed": true
   },
   "outputs": [],
   "source": [
    "def cal_kinetic_energy(vel):\n",
    "    results = 0.0\n",
    "    for vi in vel:\n",
    "        results += 0.5*m*(vi**2)\n",
    "    return results"
   ]
  },
  {
   "cell_type": "code",
   "execution_count": 4,
   "metadata": {
    "collapsed": true
   },
   "outputs": [],
   "source": [
    "def cal_total_energy(chain, vel):\n",
    "    return cal_potential_energy(chain) + cal_kinetic_energy(vel)"
   ]
  },
  {
   "cell_type": "code",
   "execution_count": 5,
   "metadata": {
    "collapsed": false,
    "scrolled": true
   },
   "outputs": [],
   "source": [
    "# Now we need to verlet every particle:\n",
    "T = 100\n",
    "dt = 0.1\n",
    "num_iter = int(T/dt)\n",
    "t = 0.0\n",
    "m = 1.0\n",
    "alpha = 0.0\n",
    "kB = 1.0\n",
    "Temp = 1.0 # Kelvin\n",
    "\n",
    "# Initialise of v\n",
    "v = np.zeros(N)"
   ]
  },
  {
   "cell_type": "code",
   "execution_count": 6,
   "metadata": {
    "collapsed": false
   },
   "outputs": [
    {
     "name": "stdout",
     "output_type": "stream",
     "text": [
      "40.11984\n",
      "0.0\n",
      "40.11984\n"
     ]
    }
   ],
   "source": [
    "print cal_total_energy(x, v)\n",
    "print cal_kinetic_energy(v)\n",
    "print cal_potential_energy(x)"
   ]
  },
  {
   "cell_type": "code",
   "execution_count": 7,
   "metadata": {
    "collapsed": false
   },
   "outputs": [],
   "source": [
    "a = np.zeros(N)\n",
    "net_length = []\n",
    "potential_energy = []\n",
    "kinetic_energy = []\n",
    "total_energy = []\n",
    "v_mean = []\n",
    "\n",
    "for it in range(num_iter):\n",
    "    if it==0:    \n",
    "        # Create a storage\n",
    "        x_store = x.copy()\n",
    "    else:\n",
    "        # Create a storage\n",
    "        x_store = np.vstack((x_store, x))    \n",
    "        \n",
    "    # Let's propose random move, by drawing samples from a distribution\n",
    "    x_propose = np.random.normal(x, 0.01, N)\n",
    "#     print x\n",
    "#     print x_propose\n",
    "    v_propose = (1.0/dt)*(x_propose - x)\n",
    "    \n",
    "    # Calculate the change in energy\n",
    "    delta_pe = cal_potential_energy(x_propose) - cal_potential_energy(x)\n",
    "    delta_ke = cal_kinetic_energy(v_propose) - cal_kinetic_energy(v)\n",
    "    delta_e = np.abs(delta_pe + delta_ke)\n",
    "\n",
    "    # Now calculate probability of accepting\n",
    "    prob = np.min(1.0, np.exp(-delta_e/(kB*Temp)))\n",
    "    u = np.random.uniform(0.0, 1.0)\n",
    "    if (u<prob):\n",
    "        x = x_propose\n",
    "        v = v_propose\n",
    "    \n",
    "    # Create a storage\n",
    "    net_length.append((np.max(x)-np.min(x))/L)\n",
    "    potential_energy.append(cal_potential_energy(x))\n",
    "    kinetic_energy.append(cal_kinetic_energy(v))\n",
    "    total_energy.append(cal_total_energy(x, v))"
   ]
  },
  {
   "cell_type": "code",
   "execution_count": 8,
   "metadata": {
    "collapsed": false
   },
   "outputs": [
    {
     "name": "stdout",
     "output_type": "stream",
     "text": [
      "1.0025428742\n"
     ]
    },
    {
     "data": {
      "image/png": "[encoded data removed]",
      "text/plain": [
       "<matplotlib.figure.Figure at 0x7fb50c07c8d0>"
      ]
     },
     "metadata": {},
     "output_type": "display_data"
    }
   ],
   "source": [
    "plt.plot(net_length)\n",
    "print np.mean(net_length)"
   ]
  },
  {
   "cell_type": "code",
   "execution_count": 9,
   "metadata": {
    "collapsed": false
   },
   "outputs": [
    {
     "data": {
      "text/plain": [
       "[<matplotlib.lines.Line2D at 0x7fb4f416a350>]"
      ]
     },
     "execution_count": 9,
     "metadata": {},
     "output_type": "execute_result"
    },
    {
     "data": {
      "image/png": "[encoded data removed]",
      "text/plain": [
       "<matplotlib.figure.Figure at 0x7fb4f42366d0>"
      ]
     },
     "metadata": {},
     "output_type": "display_data"
    }
   ],
   "source": [
    "plt.plot(potential_energy)"
   ]
  },
  {
   "cell_type": "code",
   "execution_count": 10,
   "metadata": {
    "collapsed": false
   },
   "outputs": [
    {
     "data": {
      "text/plain": [
       "[<matplotlib.lines.Line2D at 0x7fb4f40a2450>]"
      ]
     },
     "execution_count": 10,
     "metadata": {},
     "output_type": "execute_result"
    },
    {
     "data": {
      "image/png": "[encoded data removed]",
      "text/plain": [
       "<matplotlib.figure.Figure at 0x7fb4f418da90>"
      ]
     },
     "metadata": {},
     "output_type": "display_data"
    }
   ],
   "source": [
    "plt.plot(total_energy)"
   ]
  },
  {
   "cell_type": "code",
   "execution_count": 11,
   "metadata": {
    "collapsed": false
   },
   "outputs": [
    {
     "data": {
      "text/plain": [
       "[<matplotlib.lines.Line2D at 0x7fb4eff98ad0>]"
      ]
     },
     "execution_count": 11,
     "metadata": {},
     "output_type": "execute_result"
    },
    {
     "data": {
      "image/png": "[encoded data removed]",
      "text/plain": [
       "<matplotlib.figure.Figure at 0x7fb4f40cfd10>"
      ]
     },
     "metadata": {},
     "output_type": "display_data"
    }
   ],
   "source": [
    "plt.plot(kinetic_energy)"
   ]
  },
  {
   "cell_type": "code",
   "execution_count": 12,
   "metadata": {
    "collapsed": false
   },
   "outputs": [
    {
     "data": {
      "image/png": "[encoded data removed]",
      "text/plain": [
       "<matplotlib.figure.Figure at 0x7fb4eff0cb90>"
      ]
     },
     "metadata": {},
     "output_type": "display_data"
    }
   ],
   "source": [
    "from JSAnimation.IPython_display import display_animation\n",
    "import matplotlib.animation as animation\n",
    "\n",
    "fig = plt.figure()\n",
    "ax = fig.add_subplot(111, autoscale_on=False, xlim=(-2.0, L+2.0), ylim=(-0.5, 0.5))\n",
    "ax.grid()\n",
    "scat = ax.scatter([], [], s=50)\n",
    "line, = ax.plot([], [], lw=2)\n",
    "time_template = 'time = %.1fs'\n",
    "time_text = ax.text(0.05, 0.9, '', transform=ax.transAxes)\n",
    "color_data = np.linspace(0, N, N)\n",
    "\n",
    "def animate(i, color_data, scat, line):\n",
    "    x = x_store[i]\n",
    "    y = np.zeros(x.size)\n",
    "    line.set_data(x, y)\n",
    "    array = np.vstack((x, y))\n",
    "    scat.set_offsets(array.transpose())\n",
    "    scat.set_array(color_data)\n",
    "    time_text.set_text(time_template%(i*dt))\n",
    "    return line, scat, time_text\n",
    "\n",
    "def init():\n",
    "    line.set_data([], [])\n",
    "    scat = ax.scatter([], [], s=50)\n",
    "    time_text.set_text('')\n",
    "    return line, scat, time_text\n",
    "\n",
    "anim = animation.FuncAnimation(fig, animate, frames=xrange(num_iter),\n",
    "                              fargs=(color_data, scat, line), blit=False, init_func=init)\n",
    "    \n",
    "# Call animation function to display the animation\n",
    "# display_animation(anim)"
   ]
  },
  {
   "cell_type": "code",
   "execution_count": 13,
   "metadata": {
    "collapsed": false
   },
   "outputs": [
    {
     "name": "stdout",
     "output_type": "stream",
     "text": [
      "[ -2.90177188e-01   1.02646274e-02   5.41085604e-01   6.71005121e-01\n",
      "   2.19895875e-01   8.64090252e-01   6.00327691e-01   9.03009232e-01\n",
      "   7.36002547e-01   8.11858611e-01   5.43941497e-01   6.94734188e-01\n",
      "   1.16507525e+00   1.33837694e+00   1.58254149e+00   8.50586939e-01\n",
      "   1.21514423e+00   2.20503617e+00   1.28934666e+00   2.09167705e+00\n",
      "   1.69336829e+00   2.13737760e+00   2.24580389e+00   2.25007337e+00\n",
      "   2.37727057e+00   2.31589292e+00   3.02280159e+00   2.36104941e+00\n",
      "   3.08220891e+00   3.00030064e+00   2.36778144e+00   3.24020571e+00\n",
      "   2.92346682e+00   3.23771884e+00   3.44730910e+00   3.09481332e+00\n",
      "   3.84141903e+00   3.80935173e+00   3.79198833e+00   3.65060155e+00\n",
      "   3.90709778e+00   4.35645783e+00   4.53030547e+00   3.93229580e+00\n",
      "   4.68681471e+00   4.50298888e+00   4.50862021e+00   4.45870955e+00\n",
      "   4.68284078e+00   4.82093677e+00   4.38715293e+00   5.41049991e+00\n",
      "   4.89096266e+00   5.30057678e+00   5.48294303e+00   5.24371766e+00\n",
      "   5.78427401e+00   5.56448114e+00   5.91414411e+00   5.69692221e+00\n",
      "   5.99983004e+00   5.97717065e+00   5.87650548e+00   6.19276071e+00\n",
      "   6.61791156e+00   6.90303052e+00   6.33975073e+00   7.01520712e+00\n",
      "   6.49217230e+00   7.07767480e+00   6.78649417e+00   7.25556525e+00\n",
      "   6.91309542e+00   7.60195941e+00   7.71299938e+00   7.86736797e+00\n",
      "   7.69249442e+00   7.42867386e+00   8.14555560e+00   6.99957674e+00\n",
      "   7.39805633e+00   7.98445900e+00   8.46904522e+00   8.41649283e+00\n",
      "   8.45873322e+00   8.62072175e+00   8.73642644e+00   8.68319682e+00\n",
      "   8.66010750e+00   9.11580821e+00   8.89560384e+00   8.77125036e+00\n",
      "   9.34742724e+00   8.98768636e+00   1.02372870e+01   9.16343553e+00\n",
      "   9.36796699e+00   9.60659438e+00   9.39389189e+00   9.61728233e+00\n",
      "   1.00424734e+01   1.05243848e+01   1.03873797e+01   1.05646143e+01\n",
      "   1.05681269e+01   1.00633418e+01   1.00677953e+01   1.09309282e+01\n",
      "   1.11579503e+01   1.15791135e+01   1.06082368e+01   1.11058834e+01\n",
      "   1.10980786e+01   1.10511534e+01   1.14626369e+01   1.16977471e+01\n",
      "   1.15227891e+01   1.08772572e+01   1.17124267e+01   1.18052319e+01\n",
      "   1.23859408e+01   1.21866157e+01   1.18462123e+01   1.25694349e+01\n",
      "   1.22752888e+01   1.23885560e+01   1.25292446e+01   1.24675150e+01\n",
      "   1.25180984e+01   1.29513916e+01   1.26097580e+01   1.27665602e+01\n",
      "   1.33268808e+01   1.37325334e+01   1.30446683e+01   1.33069149e+01\n",
      "   1.34719592e+01   1.38750639e+01   1.39624732e+01   1.43117088e+01\n",
      "   1.39346569e+01   1.40792958e+01   1.45896777e+01   1.50855096e+01\n",
      "   1.46143799e+01   1.37120802e+01   1.47426360e+01   1.43800399e+01\n",
      "   1.46816148e+01   1.47190954e+01   1.48586695e+01   1.54369161e+01\n",
      "   1.45216343e+01   1.56007491e+01   1.53636245e+01   1.60136471e+01\n",
      "   1.54030833e+01   1.53764567e+01   1.58960334e+01   1.61756519e+01\n",
      "   1.59561478e+01   1.62026514e+01   1.56039742e+01   1.66026733e+01\n",
      "   1.65335610e+01   1.65486219e+01   1.59801357e+01   1.71413712e+01\n",
      "   1.73036659e+01   1.73895653e+01   1.70880668e+01   1.71923821e+01\n",
      "   1.74543626e+01   1.74232133e+01   1.71486159e+01   1.79671373e+01\n",
      "   1.75821299e+01   1.74764622e+01   1.75828739e+01   1.79546200e+01\n",
      "   1.81186173e+01   1.84348039e+01   1.82622919e+01   1.83360391e+01\n",
      "   1.81918215e+01   1.79133743e+01   1.88595689e+01   1.86044106e+01\n",
      "   1.89584448e+01   1.90765915e+01   1.93389830e+01   1.92649120e+01\n",
      "   1.91901815e+01   1.91556092e+01   1.99591623e+01   1.93141895e+01\n",
      "   1.99470110e+01   2.00282093e+01   2.05395034e+01   2.03992424e+01\n",
      "   2.00612070e+01   1.97056017e+01   2.05982780e+01   2.08721231e+01\n",
      "   2.06554554e+01   2.01176944e+01   2.00311288e+01   2.06379580e+01\n",
      "   2.11040977e+01   2.05257634e+01   2.10792864e+01   2.08018956e+01\n",
      "   2.13055891e+01   2.12585433e+01   2.09407264e+01   2.15844686e+01\n",
      "   2.16755419e+01   2.18064385e+01   2.20844107e+01   2.23178086e+01\n",
      "   2.19778895e+01   2.24784459e+01   2.19980973e+01   2.21471055e+01\n",
      "   2.29575840e+01   2.21962502e+01   2.26678504e+01   2.23700051e+01\n",
      "   2.27008198e+01   2.25863589e+01   2.33101985e+01   2.30549631e+01\n",
      "   2.32257249e+01   2.38748305e+01   2.34661002e+01   2.37386718e+01\n",
      "   2.38176474e+01   2.32234158e+01   2.37443541e+01   2.43104651e+01\n",
      "   2.41466479e+01   2.46389695e+01   2.41753831e+01   2.39817212e+01\n",
      "   2.46611875e+01   2.43117864e+01   2.41308567e+01   2.48212795e+01\n",
      "   2.51889487e+01   2.52658001e+01   2.55001279e+01   2.50732265e+01\n",
      "   2.57264770e+01   2.51009664e+01   2.60077861e+01   2.51197891e+01\n",
      "   2.53676505e+01   2.58256254e+01   2.59433599e+01   2.62669371e+01\n",
      "   2.60627393e+01   2.67096533e+01   2.66222111e+01   2.60739252e+01\n",
      "   2.64086817e+01   2.61360543e+01   2.66447639e+01   2.65903037e+01\n",
      "   2.67009112e+01   2.69191995e+01   2.74283754e+01   2.72555973e+01\n",
      "   2.72390100e+01   2.72156063e+01   2.72486782e+01   2.82371305e+01\n",
      "   2.76775668e+01   2.76588964e+01   2.76695043e+01   2.72725083e+01\n",
      "   2.83673673e+01   2.83206806e+01   2.81848398e+01   2.81042978e+01\n",
      "   2.83679258e+01   2.87909013e+01   2.84599251e+01   2.88660176e+01\n",
      "   2.87985446e+01   2.91175991e+01   2.90087143e+01   2.86483212e+01\n",
      "   2.93336406e+01   2.86494873e+01   2.96414378e+01   2.94820553e+01\n",
      "   2.92416149e+01   2.96712157e+01   2.99882561e+01   2.96070992e+01\n",
      "   2.99216269e+01   2.98419648e+01   3.01854136e+01   3.01151976e+01\n",
      "   3.03922339e+01   3.01119145e+01   3.06713592e+01   3.08795307e+01\n",
      "   3.14123177e+01   3.07397364e+01   3.11874011e+01   3.12771164e+01\n",
      "   3.18993709e+01   3.12610015e+01   3.19065044e+01   3.18268352e+01\n",
      "   3.16949804e+01   3.16323566e+01   3.17886749e+01   3.17563370e+01\n",
      "   3.21796792e+01   3.18918516e+01   3.18717213e+01   3.19675188e+01\n",
      "   3.26164729e+01   3.22020953e+01   3.25535610e+01   3.31744781e+01\n",
      "   3.26352903e+01   3.33079599e+01   3.25590655e+01   3.36850118e+01\n",
      "   3.33946073e+01   3.29447347e+01   3.38284031e+01   3.37892922e+01\n",
      "   3.35596524e+01   3.36971406e+01   3.41961832e+01   3.36250415e+01\n",
      "   3.38114352e+01   3.47065433e+01   3.42017425e+01   3.38203871e+01\n",
      "   3.46181655e+01   3.48390187e+01   3.43926613e+01   3.52900764e+01\n",
      "   3.47869344e+01   3.45398507e+01   3.43520234e+01   3.54342347e+01\n",
      "   3.46504320e+01   3.50203734e+01   3.59532451e+01   3.48837290e+01\n",
      "   3.56754650e+01   3.55885003e+01   3.60588890e+01   3.61627508e+01\n",
      "   3.57528102e+01   3.62243568e+01   3.64528358e+01   3.63763957e+01\n",
      "   3.63809601e+01   3.61299934e+01   3.66348935e+01   3.72094229e+01\n",
      "   3.65078243e+01   3.64471032e+01   3.73690568e+01   3.71377508e+01\n",
      "   3.70910098e+01   3.73646686e+01   3.78626795e+01   3.80172842e+01\n",
      "   3.74363654e+01   3.75707078e+01   3.77969074e+01   3.82733651e+01\n",
      "   3.78004814e+01   3.84649085e+01   3.80027275e+01   3.80841196e+01\n",
      "   3.85928285e+01   3.86865619e+01   3.87257302e+01   3.88112378e+01\n",
      "   3.84063301e+01   3.92338416e+01   3.88633768e+01   3.88107134e+01\n",
      "   3.89006835e+01   3.91009580e+01   3.91154431e+01   3.95285906e+01\n",
      "   3.97356075e+01   4.02158332e+01   3.93824930e+01   3.97655051e+01\n",
      "   4.01157072e+01   4.03536188e+01   4.00392699e+01   4.03857044e+01\n",
      "   4.00640624e+01   4.04400691e+01   4.06870929e+01   4.05555876e+01\n",
      "   4.07451672e+01   4.07263807e+01   4.08732148e+01   4.10499135e+01\n",
      "   4.17152800e+01   4.11267647e+01   4.13517013e+01   4.14493578e+01\n",
      "   4.15739744e+01   4.16066343e+01   4.17843352e+01   4.21485321e+01\n",
      "   4.22302508e+01   4.20482742e+01   4.24050485e+01   4.24155506e+01\n",
      "   4.25097931e+01   4.29014993e+01   4.22281484e+01   4.24919836e+01\n",
      "   4.18767850e+01   4.31002851e+01   4.29624701e+01   4.34250950e+01\n",
      "   4.32348712e+01   4.32255137e+01   4.37303643e+01   4.32750793e+01\n",
      "   4.36392114e+01   4.35061425e+01   4.39610528e+01   4.38623210e+01\n",
      "   4.38225180e+01   4.41000298e+01   4.42029906e+01   4.45728356e+01\n",
      "   4.42303510e+01   4.47640378e+01   4.44758757e+01   4.46092167e+01\n",
      "   4.52464133e+01   4.43037612e+01   4.51218451e+01   4.52353204e+01\n",
      "   4.50919190e+01   4.54257760e+01   4.56602146e+01   4.48584985e+01\n",
      "   4.56478777e+01   4.55794103e+01   4.56649002e+01   4.56120732e+01\n",
      "   4.65387727e+01   4.60472397e+01   4.61078356e+01   4.60641951e+01\n",
      "   4.60805502e+01   4.61729933e+01   4.66584222e+01   4.61063274e+01\n",
      "   4.68911288e+01   4.69028176e+01   4.70347599e+01   4.73492190e+01\n",
      "   4.68104306e+01   4.69217891e+01   4.63937909e+01   4.80332482e+01\n",
      "   4.73863553e+01   4.81035781e+01   4.81280946e+01   4.83407405e+01\n",
      "   4.78666737e+01   4.81161289e+01   4.78015911e+01   4.80340990e+01\n",
      "   4.84581519e+01   4.80287542e+01   4.89758680e+01   4.86799741e+01\n",
      "   4.91310541e+01   4.92912343e+01   4.93870590e+01   4.88357467e+01\n",
      "   4.90590884e+01   4.90785782e+01   4.93208559e+01   4.94822909e+01\n",
      "   4.97489491e+01   5.02867295e+01   4.98404413e+01   4.91203670e+01\n",
      "   5.05659995e+01   4.97599856e+01   5.04532072e+01   5.03762185e+01\n",
      "   5.03075401e+01   4.99143839e+01   5.10973440e+01   5.04663598e+01\n",
      "   5.08749760e+01   5.08957445e+01   5.12134910e+01   5.13073122e+01\n",
      "   5.07899330e+01   5.15033299e+01   5.12321876e+01   5.12220225e+01\n",
      "   5.12572294e+01   5.15942390e+01   5.22538216e+01   5.18723532e+01\n",
      "   5.16530470e+01   5.28132423e+01   5.23706200e+01   5.30263210e+01\n",
      "   5.29824877e+01   5.28101435e+01   5.26618668e+01   5.26050556e+01\n",
      "   5.30598655e+01   5.27529137e+01   5.30834450e+01   5.23818819e+01\n",
      "   5.28346201e+01   5.40018333e+01   5.33054401e+01   5.29643863e+01\n",
      "   5.38931313e+01   5.32181507e+01   5.43057549e+01   5.39085302e+01\n",
      "   5.39999272e+01   5.42006033e+01   5.36489619e+01   5.42514854e+01\n",
      "   5.43983984e+01   5.44908367e+01   5.39605873e+01   5.47309188e+01\n",
      "   5.45100711e+01   5.46648380e+01   5.48901957e+01   5.50598875e+01\n",
      "   5.51950226e+01   5.50725168e+01   5.58424667e+01   5.54510985e+01\n",
      "   5.60254069e+01   5.56405548e+01   5.56223100e+01   5.58289195e+01\n",
      "   5.56737307e+01   5.65043211e+01   5.61007051e+01   5.66172077e+01\n",
      "   5.64677953e+01   5.65379226e+01   5.65527817e+01   5.70442799e+01\n",
      "   5.67943773e+01   5.69979032e+01   5.69344242e+01   5.71297706e+01\n",
      "   5.79166808e+01   5.75265114e+01   5.75489888e+01   5.79018514e+01\n",
      "   5.77904844e+01   5.78944227e+01   5.75980204e+01   5.76349632e+01\n",
      "   5.83589573e+01   5.84932856e+01   5.77325217e+01   5.76033797e+01\n",
      "   5.81111609e+01   5.85870402e+01   5.84598799e+01   5.85221621e+01\n",
      "   5.82961400e+01   5.92115139e+01   5.93575354e+01   5.86785830e+01\n",
      "   5.89331746e+01   5.89419772e+01   5.92644370e+01   5.95107865e+01\n",
      "   5.96895725e+01   5.99918105e+01   5.92666897e+01   5.98573948e+01\n",
      "   6.01434580e+01   5.99591029e+01   6.00092804e+01   6.07716287e+01\n",
      "   5.99594951e+01   6.04605534e+01   6.05345992e+01   6.03894599e+01\n",
      "   6.11061800e+01   6.09085048e+01   6.07542953e+01   6.12867103e+01\n",
      "   6.09251911e+01   6.15465049e+01   6.17151475e+01   6.16537821e+01\n",
      "   6.19475728e+01   6.13446655e+01   6.15585339e+01   6.17697820e+01\n",
      "   6.21360628e+01   6.25162161e+01   6.16217776e+01   6.25009499e+01\n",
      "   6.17793000e+01   6.18928743e+01   6.27520490e+01   6.29026515e+01\n",
      "   6.21446084e+01   6.30429298e+01   6.31426649e+01   6.28214771e+01\n",
      "   6.24963130e+01   6.33605493e+01   6.29100904e+01   6.34346148e+01\n",
      "   6.28772028e+01   6.36821642e+01   6.43729095e+01   6.44153741e+01\n",
      "   6.40606580e+01   6.38372363e+01   6.39203697e+01   6.40563974e+01\n",
      "   6.39962818e+01   6.47572205e+01   6.42844668e+01   6.46171134e+01\n",
      "   6.45411449e+01   6.47001608e+01   6.49416136e+01   6.54799162e+01\n",
      "   6.50983823e+01   6.57966735e+01   6.53146858e+01   6.57266553e+01\n",
      "   6.55205213e+01   6.58553381e+01   6.56529524e+01   6.58164581e+01\n",
      "   6.55641798e+01   6.58931380e+01   6.63976615e+01   6.68131623e+01\n",
      "   6.61296169e+01   6.71678575e+01   6.63356485e+01   6.68016232e+01\n",
      "   6.68325496e+01   6.68458764e+01   6.72113506e+01   6.72463686e+01\n",
      "   6.70534057e+01   6.70017245e+01   6.71124482e+01   6.75533400e+01\n",
      "   6.75230117e+01   6.74685947e+01   6.82610201e+01   6.82018423e+01\n",
      "   6.82149177e+01   6.78092072e+01   6.81674024e+01   6.79935576e+01\n",
      "   6.82441557e+01   6.85607266e+01   6.82263989e+01   6.87113989e+01\n",
      "   6.86439422e+01   6.94522363e+01   6.85970039e+01   6.85483080e+01\n",
      "   6.89906091e+01   6.90626286e+01   6.93160107e+01   6.94802966e+01\n",
      "   6.97299893e+01   6.99734770e+01   6.98850469e+01   6.97382758e+01\n",
      "   7.02974914e+01   7.02079924e+01   7.06401677e+01   6.96809867e+01\n",
      "   7.06194808e+01   7.08515723e+01   7.08536882e+01   7.06075524e+01\n",
      "   7.06787811e+01   7.11088445e+01   7.10663684e+01   7.14230653e+01\n",
      "   7.14293741e+01   7.12465345e+01   7.09325324e+01   7.18713815e+01\n",
      "   7.14749624e+01   7.19342319e+01   7.20252269e+01   7.14958671e+01\n",
      "   7.17836993e+01   7.18829597e+01   7.22788213e+01   7.27291654e+01\n",
      "   7.25382018e+01   7.20711519e+01   7.27528622e+01   7.28252697e+01\n",
      "   7.33470583e+01   7.24859248e+01   7.29130514e+01   7.38236368e+01\n",
      "   7.31335883e+01   7.28509243e+01   7.35175727e+01   7.35465970e+01\n",
      "   7.30387367e+01   7.36439994e+01   7.37625906e+01   7.38830331e+01\n",
      "   7.37957218e+01   7.40876353e+01   7.45092440e+01   7.41771360e+01\n",
      "   7.45250947e+01   7.48690029e+01   7.47245694e+01   7.46918093e+01\n",
      "   7.48469759e+01   7.49364611e+01   7.53237943e+01   7.49951974e+01\n",
      "   7.48983359e+01   7.51265809e+01   7.55434936e+01   7.53804324e+01\n",
      "   7.59410862e+01   7.55033712e+01   7.58356982e+01   7.58780449e+01\n",
      "   7.57093993e+01   7.59449615e+01   7.59783459e+01   7.62877644e+01\n",
      "   7.64392840e+01   7.67756454e+01   7.68468976e+01   7.69685886e+01\n",
      "   7.68244753e+01   7.71315781e+01   7.71852479e+01   7.70832527e+01\n",
      "   7.77273492e+01   7.71802026e+01   7.73599640e+01   7.75769574e+01\n",
      "   7.80686659e+01   7.82526718e+01   7.75965592e+01   7.78995637e+01\n",
      "   7.78303194e+01   7.80598186e+01   7.79518045e+01   7.81714258e+01\n",
      "   7.84002539e+01   7.85752311e+01   7.83489614e+01   7.87273198e+01\n",
      "   7.81747586e+01   7.88646719e+01   7.91047191e+01   7.90739354e+01\n",
      "   7.91773444e+01   7.94474126e+01   7.95381881e+01   7.96438957e+01\n",
      "   8.02719928e+01   7.96196766e+01   7.97191562e+01   7.99330487e+01\n",
      "   7.92209088e+01   8.03923831e+01   7.94836615e+01   8.02240818e+01\n",
      "   7.98429526e+01   7.98512629e+01   8.05990688e+01   8.10534470e+01\n",
      "   8.05992661e+01   8.07052062e+01   8.10338368e+01   8.09267834e+01\n",
      "   8.13360389e+01   8.12569251e+01   8.19799268e+01   8.11934914e+01\n",
      "   8.19100819e+01   8.19931464e+01   8.15734816e+01   8.17108632e+01\n",
      "   8.25268579e+01   8.24352320e+01   8.21206905e+01   8.16815480e+01\n",
      "   8.24480501e+01   8.25181785e+01   8.21377027e+01   8.32445982e+01\n",
      "   8.28117401e+01   8.35448175e+01   8.32014881e+01   8.30355664e+01\n",
      "   8.26760920e+01   8.38484811e+01   8.36555904e+01   8.38627520e+01\n",
      "   8.32471827e+01   8.37518370e+01   8.42011789e+01   8.42668893e+01\n",
      "   8.46087377e+01   8.41919177e+01   8.47190074e+01   8.39953356e+01\n",
      "   8.42972536e+01   8.48346678e+01   8.53598376e+01   8.45998337e+01\n",
      "   8.51553086e+01   8.46616434e+01   8.45973888e+01   8.46917031e+01\n",
      "   8.58169840e+01   8.60229062e+01   8.55036828e+01   8.55354521e+01\n",
      "   8.54186345e+01   8.51520497e+01   8.54261240e+01   8.57467492e+01\n",
      "   8.63117523e+01   8.61578751e+01   8.60374747e+01   8.66660277e+01\n",
      "   8.66341108e+01   8.69904744e+01   8.66136432e+01   8.68784263e+01\n",
      "   8.63785484e+01   8.68462302e+01   8.68568585e+01   8.65581740e+01\n",
      "   8.80194789e+01   8.73066542e+01   8.70957456e+01   8.69618157e+01\n",
      "   8.81076835e+01   8.67441318e+01   8.78358353e+01   8.80308917e+01\n",
      "   8.82269718e+01   8.82164250e+01   8.78268297e+01   8.75441392e+01\n",
      "   8.85895126e+01   8.81766861e+01   8.84522965e+01   8.84117835e+01\n",
      "   8.90228642e+01   8.89451140e+01   8.86235824e+01   8.91388924e+01\n",
      "   8.98693209e+01   8.95381128e+01   8.94907571e+01   8.96126103e+01\n",
      "   8.93691385e+01   9.00387053e+01   8.95059492e+01   8.94837453e+01\n",
      "   8.97923894e+01   9.03270575e+01   9.09511495e+01   9.08227402e+01\n",
      "   9.02564971e+01   9.04608015e+01   9.09074576e+01   9.06780205e+01\n",
      "   9.08729099e+01   9.07048407e+01   9.10581580e+01   9.06660684e+01\n",
      "   9.08369728e+01   9.17878742e+01   9.17627966e+01   9.21028571e+01\n",
      "   9.19637279e+01   9.11553411e+01   9.17475079e+01   9.17671922e+01\n",
      "   9.24022431e+01   9.14133656e+01   9.18167379e+01   9.24277294e+01\n",
      "   9.21911253e+01   9.29845449e+01   9.27559567e+01   9.30744379e+01\n",
      "   9.33391455e+01   9.28823748e+01   9.30116023e+01   9.29527355e+01\n",
      "   9.30604907e+01   9.34795274e+01   9.35423250e+01   9.34764886e+01\n",
      "   9.40139540e+01   9.38656588e+01   9.39461360e+01   9.39549772e+01\n",
      "   9.43940671e+01   9.44041345e+01   9.40920652e+01   9.43965280e+01\n",
      "   9.39587777e+01   9.44039802e+01   9.47652825e+01   9.47785012e+01\n",
      "   9.51101124e+01   9.49303306e+01   9.48402102e+01   9.52598696e+01\n",
      "   9.45939437e+01   9.52149571e+01   9.50379220e+01   9.55749955e+01\n",
      "   9.53875738e+01   9.59446903e+01   9.60062907e+01   9.58039122e+01\n",
      "   9.63573066e+01   9.61540372e+01   9.64401523e+01   9.64978861e+01\n",
      "   9.71183405e+01   9.65783354e+01   9.69135209e+01   9.64796021e+01\n",
      "   9.68890440e+01   9.73516059e+01   9.67906865e+01   9.68896690e+01\n",
      "   9.71801651e+01   9.70503345e+01   9.75430295e+01   9.77863524e+01\n",
      "   9.76420544e+01   9.74908408e+01   9.81088727e+01   9.78464136e+01\n",
      "   9.86568568e+01   9.78292681e+01   9.79157470e+01   9.83296396e+01\n",
      "   9.82446875e+01   9.87228647e+01   9.89122897e+01   9.85939291e+01\n",
      "   9.95226238e+01   9.90472088e+01   9.90149012e+01   9.91138338e+01\n",
      "   9.86894430e+01   9.95903987e+01   9.94104052e+01   9.97655239e+01\n",
      "   9.96383741e+01   9.96031878e+01   9.96926416e+01   9.98665479e+01]\n"
     ]
    }
   ],
   "source": [
    "print x_store[-1]"
   ]
  },
  {
   "cell_type": "code",
   "execution_count": 14,
   "metadata": {
    "collapsed": false
   },
   "outputs": [
    {
     "data": {
      "text/plain": [
       "[<matplotlib.lines.Line2D at 0x7fb4efdcdcd0>]"
      ]
     },
     "execution_count": 14,
     "metadata": {},
     "output_type": "execute_result"
    },
    {
     "data": {
      "image/png": "[encoded data removed]",
      "text/plain": [
       "<matplotlib.figure.Figure at 0x7fb4effcf6d0>"
      ]
     },
     "metadata": {},
     "output_type": "display_data"
    }
   ],
   "source": [
    "plt.plot(x_store[-1], np.zeros(x_store[-1].size), '-o')"
   ]
  },
  {
   "cell_type": "code",
   "execution_count": null,
   "metadata": {
    "collapsed": true
   },
   "outputs": [],
   "source": []
  }
 ],
 "metadata": {
  "kernelspec": {
   "display_name": "Python 2",
   "language": "python",
   "name": "python2"
  },
  "language_info": {
   "codemirror_mode": {
    "name": "ipython",
    "version": 2
   },
   "file_extension": ".py",
   "mimetype": "text/x-python",
   "name": "python",
   "nbconvert_exporter": "python",
   "pygments_lexer": "ipython2",
   "version": "2.7.6"
  }
 },
 "nbformat": 4,
 "nbformat_minor": 0
}
