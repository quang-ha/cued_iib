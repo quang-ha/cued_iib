{
 "cells": [
  {
   "cell_type": "markdown",
   "metadata": {},
   "source": [
    "This notebook includes the surface plots for the questions in coursework (A)."
   ]
  },
  {
   "cell_type": "code",
   "execution_count": 1,
   "metadata": {
    "collapsed": true
   },
   "outputs": [],
   "source": [
    "# Import python numpy and matplotlib modules\n",
    "import numpy as np\n",
    "\n",
    "# Import plotly for awesomeness \n",
    "import plotly.plotly as py\n",
    "\n",
    "# (*) Useful Python/Plotly tools\n",
    "import plotly.tools as tls\n",
    "\n",
    "# (*) Graph objects to piece together plots\n",
    "from plotly.graph_objs import *"
   ]
  },
  {
   "cell_type": "code",
   "execution_count": 2,
   "metadata": {
    "collapsed": false
   },
   "outputs": [],
   "source": [
    "# Generate trace\n",
    "def get_trace(x,y,z):\n",
    "    return Surface(z=z,x=x,y=y)"
   ]
  },
  {
   "cell_type": "code",
   "execution_count": 3,
   "metadata": {
    "collapsed": false
   },
   "outputs": [],
   "source": [
    "# Dictionary of style options for all axes\n",
    "axis = dict(\n",
    "    showbackground=True, # (!) show axis background\n",
    "    backgroundcolor=\"rgb(204, 204, 204)\", # set background color to grey\n",
    "    gridcolor=\"rgb(255, 255, 255)\",       # set grid line color\n",
    "    zerolinecolor=\"rgb(255, 255, 255)\",   # set zero grid line color\n",
    ")\n",
    "\n",
    "# Make a layout object\n",
    "layout = Layout(\n",
    "    width=800,\n",
    "    height=600,\n",
    "    autosize=False,\n",
    "    scene=Scene(  # (!) axes are part of a 'scene' in 3d plots\n",
    "        xaxis=XAxis(axis), # set x-axis style\n",
    "        yaxis=YAxis(axis), # set y-axis style\n",
    "        zaxis=ZAxis(axis)  # set z-axis style\n",
    "    ),\n",
    ")"
   ]
  },
  {
   "cell_type": "markdown",
   "metadata": {},
   "source": [
    "#### QUESTION 1 ####"
   ]
  },
  {
   "cell_type": "markdown",
   "metadata": {},
   "source": [
    "The governing equation is:\n",
    "\n",
    "$$\n",
    "Z = 6X^{2} + 2XY - 3Y^{2}\n",
    "$$"
   ]
  },
  {
   "cell_type": "code",
   "execution_count": 4,
   "metadata": {
    "collapsed": false
   },
   "outputs": [
    {
     "data": {
      "text/html": [
       "<iframe id=\"igraph\" scrolling=\"no\" style=\"border:none;\"seamless=\"seamless\" src=\"https://plot.ly/~QuangHa/22.embed\" height=\"600px\" width=\"800px\"></iframe>"
      ],
      "text/plain": [
       "<plotly.tools.PlotlyDisplay object>"
      ]
     },
     "execution_count": 4,
     "metadata": {},
     "output_type": "execute_result"
    }
   ],
   "source": [
    "# Get data\n",
    "L = 40.0 # Randge o plot\n",
    "X = np.linspace(-L/2., L/2., 100)\n",
    "Y = np.linspace(-L/2., L/2., 100)\n",
    "X,Y = np.meshgrid(X,Y)\n",
    "Z1 = 6*(X**2) + 2*X*Y - 3*(Y**2)\n",
    "\n",
    "# Get the surface\n",
    "data1 = [Surface(x=X, y=Y, z=Z1)]\n",
    "\n",
    "# Make a figure object\n",
    "fig1 = Figure(data=data1, layout=layout)\n",
    "\n",
    "# (@) Send to Plotly and show in notebook\n",
    "py.iplot(fig1, filename='4d17_q1_surface')"
   ]
  },
  {
   "cell_type": "markdown",
   "metadata": {},
   "source": [
    "#### QUESTION 3 ####"
   ]
  },
  {
   "cell_type": "markdown",
   "metadata": {},
   "source": [
    "In this equation, it is required to render the surface of a toroidal shell (or a toroid). This is done by generating points at verying angle of $\\theta$ and $\\phi$ around the minor and the major axis of the toroid. These generated points are then converted into Cartisian coordinates to render the surface. "
   ]
  },
  {
   "cell_type": "code",
   "execution_count": 5,
   "metadata": {
    "collapsed": false
   },
   "outputs": [
    {
     "data": {
      "text/html": [
       "<iframe id=\"igraph\" scrolling=\"no\" style=\"border:none;\"seamless=\"seamless\" src=\"https://plot.ly/~QuangHa/25.embed\" height=\"600px\" width=\"800px\"></iframe>"
      ],
      "text/plain": [
       "<plotly.tools.PlotlyDisplay object>"
      ]
     },
     "execution_count": 5,
     "metadata": {},
     "output_type": "execute_result"
    }
   ],
   "source": [
    "a = 3.0 # Small radius\n",
    "b = 10.0 # Large radius\n",
    "\n",
    "# Rotate around the polar coordinates\n",
    "theta = np.linspace(-np.pi, np.pi, 40)\n",
    "phi = np.linspace(0, 2.0*np.pi, 40)\n",
    "THETA, PHI = np.meshgrid(theta, phi)\n",
    "\n",
    "# And then convert back to Cartesian coordinate\n",
    "X3 = (b + a*np.cos(PHI))*np.cos(THETA)\n",
    "Y3 = (b + a*np.cos(PHI))*np.sin(THETA)\n",
    "# Y3 = Y3[:, np.newaxis]  # (!) make column vector\n",
    "Z3 = a*np.sin(PHI)\n",
    "\n",
    "# Get the surface\n",
    "data3 = [Surface(x=X3, y=Y3, z=Z3)]\n",
    "\n",
    "# # Make a figure object\n",
    "fig3 = Figure(data=data3, layout=layout)\n",
    "\n",
    "# # (@) Send to Plotly and show in notebook\n",
    "py.iplot(fig3, filename='4d17_q3_surface')"
   ]
  },
  {
   "cell_type": "markdown",
   "metadata": {},
   "source": [
    "#### QUESTION 4 ####"
   ]
  },
  {
   "cell_type": "markdown",
   "metadata": {},
   "source": [
    "The governing equation is:\n",
    "\n",
    "$$\n",
    "w = \\dfrac{B}{2}(x^{2} - \\nu y^{2}) + Cxy \n",
    "$$"
   ]
  },
  {
   "cell_type": "code",
   "execution_count": 6,
   "metadata": {
    "collapsed": false
   },
   "outputs": [
    {
     "data": {
      "text/html": [
       "<iframe id=\"igraph\" scrolling=\"no\" style=\"border:none;\"seamless=\"seamless\" src=\"https://plot.ly/~QuangHa/29.embed\" height=\"600px\" width=\"800px\"></iframe>"
      ],
      "text/plain": [
       "<plotly.tools.PlotlyDisplay object>"
      ]
     },
     "execution_count": 6,
     "metadata": {},
     "output_type": "execute_result"
    }
   ],
   "source": [
    "# Get data\n",
    "# Set constants\n",
    "B = 1.0\n",
    "C = 1.0\n",
    "nu = 1.0/3.0\n",
    "Z4 = 0.5*B*((X**2) - nu*(Y**2)) + C*X*Y\n",
    "\n",
    "# Get the surface\n",
    "data4 = [Surface(x=X, y=Y, z=Z4)]\n",
    "\n",
    "# Make a figure object\n",
    "fig4 = Figure(data=data4, layout=layout)\n",
    "\n",
    "# (@) Send to Plotly and show in notebook\n",
    "py.iplot(fig4, filename='4d17_q4_surface')"
   ]
  },
  {
   "cell_type": "markdown",
   "metadata": {},
   "source": [
    "#### QUESTION 5 ####"
   ]
  },
  {
   "cell_type": "markdown",
   "metadata": {},
   "source": [
    "The governing equation is:\n",
    "\n",
    "$$\n",
    "Z = - \\sqrt{3}XY - X^2\n",
    "$$"
   ]
  },
  {
   "cell_type": "code",
   "execution_count": 7,
   "metadata": {
    "collapsed": false
   },
   "outputs": [
    {
     "data": {
      "text/html": [
       "<iframe id=\"igraph\" scrolling=\"no\" style=\"border:none;\"seamless=\"seamless\" src=\"https://plot.ly/~QuangHa/31.embed\" height=\"600px\" width=\"800px\"></iframe>"
      ],
      "text/plain": [
       "<plotly.tools.PlotlyDisplay object>"
      ]
     },
     "execution_count": 7,
     "metadata": {},
     "output_type": "execute_result"
    }
   ],
   "source": [
    "# Get data\n",
    "\n",
    "# Set constants\n",
    "Z5 = -np.sqrt(3)*X*Y-X**2\n",
    "\n",
    "# Get the surface\n",
    "data5 = [Surface(x=X, y=Y, z=Z5)]\n",
    "\n",
    "# Make a figure object\n",
    "fig5 = Figure(data=data5, layout=layout)\n",
    "\n",
    "# (@) Send to Plotly and show in notebook\n",
    "py.iplot(fig5, filename='4d17_q5_surface')"
   ]
  }
 ],
 "metadata": {
  "kernelspec": {
   "display_name": "Python 2",
   "language": "python",
   "name": "python2"
  },
  "language_info": {
   "codemirror_mode": {
    "name": "ipython",
    "version": 2
   },
   "file_extension": ".py",
   "mimetype": "text/x-python",
   "name": "python",
   "nbconvert_exporter": "python",
   "pygments_lexer": "ipython2",
   "version": "2.7.6"
  }
 },
 "nbformat": 4,
 "nbformat_minor": 0
}
